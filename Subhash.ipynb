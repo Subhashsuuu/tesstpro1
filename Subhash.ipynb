{
  "nbformat": 4,
  "nbformat_minor": 0,
  "metadata": {
    "colab": {
      "provenance": []
    },
    "kernelspec": {
      "name": "python3",
      "display_name": "Python 3"
    },
    "language_info": {
      "name": "python"
    }
  },
  "cells": [
    {
      "cell_type": "markdown",
      "source": [
        "#Practice for machine learning#"
      ],
      "metadata": {
        "id": "CiPnEty0u9HB"
      }
    },
    {
      "cell_type": "code",
      "source": [
        "import numpy as np\n",
        "a=np.arange(1,13)\n",
        "a"
      ],
      "metadata": {
        "colab": {
          "base_uri": "https://localhost:8080/"
        },
        "id": "Pmn8uFLXkWil",
        "outputId": "8b7a89c5-3b5c-4571-af48-0f9203f71da9"
      },
      "execution_count": 1,
      "outputs": [
        {
          "output_type": "execute_result",
          "data": {
            "text/plain": [
              "array([ 1,  2,  3,  4,  5,  6,  7,  8,  9, 10, 11, 12])"
            ]
          },
          "metadata": {},
          "execution_count": 1
        }
      ]
    },
    {
      "cell_type": "code",
      "source": [
        "a[::-1]"
      ],
      "metadata": {
        "colab": {
          "base_uri": "https://localhost:8080/"
        },
        "id": "TDdIWtitklB7",
        "outputId": "27ee6ac7-7aee-4b0c-aee2-02870094be68"
      },
      "execution_count": 5,
      "outputs": [
        {
          "output_type": "execute_result",
          "data": {
            "text/plain": [
              "array([12, 11, 10,  9,  8,  7,  6,  5,  4,  3,  2,  1])"
            ]
          },
          "metadata": {},
          "execution_count": 5
        }
      ]
    },
    {
      "cell_type": "code",
      "source": [
        "b=np.arange(12).reshape(3,4)\n",
        "b"
      ],
      "metadata": {
        "colab": {
          "base_uri": "https://localhost:8080/"
        },
        "id": "SOMSCTRbkzJO",
        "outputId": "903e3ee4-07f9-4dc7-d856-468c5ccb6e32"
      },
      "execution_count": 6,
      "outputs": [
        {
          "output_type": "execute_result",
          "data": {
            "text/plain": [
              "array([[ 0,  1,  2,  3],\n",
              "       [ 4,  5,  6,  7],\n",
              "       [ 8,  9, 10, 11]])"
            ]
          },
          "metadata": {},
          "execution_count": 6
        }
      ]
    },
    {
      "cell_type": "code",
      "source": [
        "b[0:3,2]"
      ],
      "metadata": {
        "colab": {
          "base_uri": "https://localhost:8080/"
        },
        "id": "b83XocsVlDAt",
        "outputId": "4dcf275a-3d86-48ed-9821-26caf958f161"
      },
      "execution_count": 7,
      "outputs": [
        {
          "output_type": "execute_result",
          "data": {
            "text/plain": [
              "array([ 2,  6, 10])"
            ]
          },
          "metadata": {},
          "execution_count": 7
        }
      ]
    },
    {
      "cell_type": "code",
      "source": [
        "b[0:3:1]"
      ],
      "metadata": {
        "colab": {
          "base_uri": "https://localhost:8080/"
        },
        "id": "Uj17sbDWlUy0",
        "outputId": "ccfb8485-fe42-492a-a94e-3a4c71535b2d"
      },
      "execution_count": 8,
      "outputs": [
        {
          "output_type": "execute_result",
          "data": {
            "text/plain": [
              "array([[ 0,  1,  2,  3],\n",
              "       [ 4,  5,  6,  7],\n",
              "       [ 8,  9, 10, 11]])"
            ]
          },
          "metadata": {},
          "execution_count": 8
        }
      ]
    },
    {
      "cell_type": "code",
      "source": [
        "import numpy as np\n",
        "c=np.arange(12).reshape(3,4)\n",
        "b"
      ],
      "metadata": {
        "colab": {
          "base_uri": "https://localhost:8080/"
        },
        "id": "HmGD6WXZoIbI",
        "outputId": "4b864c5a-293f-4329-b7ef-35f911ec6cde"
      },
      "execution_count": 9,
      "outputs": [
        {
          "output_type": "execute_result",
          "data": {
            "text/plain": [
              "array([[ 0,  1,  2,  3],\n",
              "       [ 4,  5,  6,  7],\n",
              "       [ 8,  9, 10, 11]])"
            ]
          },
          "metadata": {},
          "execution_count": 9
        }
      ]
    },
    {
      "cell_type": "markdown",
      "source": [
        "#flat and raven and copies and view() method#"
      ],
      "metadata": {
        "id": "6fMPvaN8pYEr"
      }
    },
    {
      "cell_type": "code",
      "source": [
        "for i in b:\n",
        "  print(10<i)\n",
        "for i in c.flat:\n",
        "  print(10<i)"
      ],
      "metadata": {
        "colab": {
          "base_uri": "https://localhost:8080/"
        },
        "id": "RZd9fqUIoSyP",
        "outputId": "6fbf4014-f9e3-4be9-e47d-311656cf1403"
      },
      "execution_count": null,
      "outputs": [
        {
          "output_type": "stream",
          "name": "stdout",
          "text": [
            "[False False False False]\n",
            "[False False False False]\n",
            "[False False False  True]\n",
            "False\n",
            "False\n",
            "False\n",
            "False\n",
            "False\n",
            "False\n",
            "False\n",
            "False\n",
            "False\n",
            "False\n",
            "False\n",
            "True\n"
          ]
        }
      ]
    },
    {
      "cell_type": "code",
      "source": [
        "a=np.arange(12)\n",
        "d=a\n",
        "a[0]=22\n",
        "a"
      ],
      "metadata": {
        "colab": {
          "base_uri": "https://localhost:8080/"
        },
        "id": "enBndJvrot-u",
        "outputId": "73c9f401-dc70-42cb-f980-bb2a4c3e69a9"
      },
      "execution_count": null,
      "outputs": [
        {
          "output_type": "execute_result",
          "data": {
            "text/plain": [
              "array([22,  1,  2,  3,  4,  5,  6,  7,  8,  9, 10, 11])"
            ]
          },
          "metadata": {},
          "execution_count": 29
        }
      ]
    },
    {
      "cell_type": "code",
      "source": [
        "a"
      ],
      "metadata": {
        "colab": {
          "base_uri": "https://localhost:8080/"
        },
        "id": "wvBR2XsCpOOm",
        "outputId": "748209bd-5a3e-4af5-9cd6-64908bf9ccd1"
      },
      "execution_count": 11,
      "outputs": [
        {
          "output_type": "execute_result",
          "data": {
            "text/plain": [
              "array([ 1,  2,  3,  4,  5,  6,  7,  8,  9, 10, 11, 12])"
            ]
          },
          "metadata": {},
          "execution_count": 11
        }
      ]
    },
    {
      "cell_type": "code",
      "source": [
        "u=np.arange(12)\n",
        "u\n",
        "f=u.view()\n",
        "f.resize((2,6))\n",
        "f"
      ],
      "metadata": {
        "colab": {
          "base_uri": "https://localhost:8080/"
        },
        "id": "wduO8wFrphPY",
        "outputId": "6fd98cda-a52c-4400-d8cb-386dcdeb46a2"
      },
      "execution_count": 12,
      "outputs": [
        {
          "output_type": "execute_result",
          "data": {
            "text/plain": [
              "array([[ 0,  1,  2,  3,  4,  5],\n",
              "       [ 6,  7,  8,  9, 10, 11]])"
            ]
          },
          "metadata": {},
          "execution_count": 12
        }
      ]
    },
    {
      "cell_type": "code",
      "source": [
        "f[0]"
      ],
      "metadata": {
        "id": "kVpFPSbKtRwY",
        "colab": {
          "base_uri": "https://localhost:8080/"
        },
        "outputId": "7d01f83b-3942-4b72-82fd-c90fecd6687e"
      },
      "execution_count": 13,
      "outputs": [
        {
          "output_type": "execute_result",
          "data": {
            "text/plain": [
              "array([0, 1, 2, 3, 4, 5])"
            ]
          },
          "metadata": {},
          "execution_count": 13
        }
      ]
    },
    {
      "cell_type": "markdown",
      "source": [
        "#kmeans algorithm(unsupervised learning)#"
      ],
      "metadata": {
        "id": "P7O-3THKujFn"
      }
    },
    {
      "cell_type": "code",
      "source": [
        "import numpy as np\n",
        "from sklearn.cluster import KMeans\n",
        "km=KMeans(n_clusters=3)\n",
        "data=np.array([\n",
        "    [1,2],[1,4], [2,3], [6,2], [6,3], [5,2],\n",
        "     [3,4], [5,6], [1,9], [9,1],[4,4],[2,9],\n",
        "    [1,10],[2,10]\n",
        "    ])\n",
        "km.fit(data)\n",
        "print(km.labels_)\n",
        "print(km.cluster_centers_)\n",
        "import matplotlib.pyplot as plt\n",
        "plt.scatter(data[:,0],data[:,1],c=km.labels_,cmap='viridis')\n",
        "plt.scatter(km.cluster_centers_[:,0],km.cluster_centers_[:,1],c=\"r\",marker=\"X\")\n",
        "plt.title(\"kmeans clustering design\")\n",
        "plt.xlabel(\"feature_1\")\n",
        "plt.ylabel(\"feature_2\")\n",
        "plt.show()"
      ],
      "metadata": {
        "colab": {
          "base_uri": "https://localhost:8080/",
          "height": 596
        },
        "collapsed": true,
        "id": "JeaOIa15uBDv",
        "outputId": "6ab0db5d-2da5-4d38-8044-4aa25dbb5502"
      },
      "execution_count": 25,
      "outputs": [
        {
          "output_type": "stream",
          "name": "stderr",
          "text": [
            "/usr/local/lib/python3.10/dist-packages/sklearn/cluster/_kmeans.py:870: FutureWarning: The default value of `n_init` will change from 10 to 'auto' in 1.4. Set the value of `n_init` explicitly to suppress the warning\n",
            "  warnings.warn(\n"
          ]
        },
        {
          "output_type": "stream",
          "name": "stdout",
          "text": [
            "[1 1 1 2 2 2 1 1 0 2 1 0 0 0]\n",
            "[[1.5        9.5       ]\n",
            " [2.66666667 3.83333333]\n",
            " [6.5        2.        ]]\n"
          ]
        },
        {
          "output_type": "display_data",
          "data": {
            "text/plain": [
              "<Figure size 640x480 with 1 Axes>"
            ],
            "image/png": "[encoded data removed]"
          },
          "metadata": {}
        }
      ]
    },
    {
      "cell_type": "code",
      "source": [
        "import pandas as pd\n",
        "df=pd.DataFrame(data,columns=[\"feature_1\",\"feature_2\"])\n",
        "km=KMeans(n_clusters=3)\n",
        "km.fit(df)\n",
        "df[\"cluster\"]=km.labels_\n",
        "print(df.cluster)\n",
        "print(km.labels_)\n",
        "plt.scatter(df.feature_1,df.feature_2,c=df.cluster, s=(km.labels_+1)*100)\n",
        "plt.show()"
      ],
      "metadata": {
        "collapsed": true,
        "colab": {
          "base_uri": "https://localhost:8080/",
          "height": 762
        },
        "id": "6DoWqWwDyneB",
        "outputId": "5c7ebfae-fc74-42be-e48d-fae8d002e3bc"
      },
      "execution_count": 56,
      "outputs": [
        {
          "output_type": "stream",
          "name": "stderr",
          "text": [
            "/usr/local/lib/python3.10/dist-packages/sklearn/cluster/_kmeans.py:870: FutureWarning: The default value of `n_init` will change from 10 to 'auto' in 1.4. Set the value of `n_init` explicitly to suppress the warning\n",
            "  warnings.warn(\n"
          ]
        },
        {
          "output_type": "stream",
          "name": "stdout",
          "text": [
            "0     0\n",
            "1     0\n",
            "2     0\n",
            "3     2\n",
            "4     2\n",
            "5     2\n",
            "6     0\n",
            "7     0\n",
            "8     1\n",
            "9     2\n",
            "10    0\n",
            "11    1\n",
            "12    1\n",
            "13    1\n",
            "Name: cluster, dtype: int32\n",
            "[0 0 0 2 2 2 0 0 1 2 0 1 1 1]\n"
          ]
        },
        {
          "output_type": "display_data",
          "data": {
            "text/plain": [
              "<Figure size 640x480 with 1 Axes>"
            ],
            "image/png": "[encoded data removed]"
          },
          "metadata": {}
        }
      ]
    },
    {
      "cell_type": "code",
      "source": [
        "df.cluster"
      ],
      "metadata": {
        "id": "82Cfysno-nuU"
      },
      "execution_count": null,
      "outputs": []
    }
  ]
}